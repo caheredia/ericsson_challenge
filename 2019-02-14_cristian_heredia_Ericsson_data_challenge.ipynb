{
 "cells": [
  {
   "cell_type": "markdown",
   "metadata": {},
   "source": [
    "# Define function "
   ]
  },
  {
   "cell_type": "code",
   "execution_count": 1,
   "metadata": {},
   "outputs": [],
   "source": [
    "codon_mapping = {'AAA': 'Lysine', 'GGG': 'Glycine', 'TTT': 'Phenylalanine',\n",
    "                 'GCC': 'Alanine', 'AAT': 'Asparagine', 'GAA': 'Glutamicacid', 'ATT': 'Isoleucine', 'TTG': 'Leucine', 'CCA': 'Proline', 'TGG': 'Tryptophan'}\n",
    "\n",
    "# Complete the analyze_dna function below.\n",
    "\n",
    "\n",
    "def analyze_dna(strands, codon_mapping):\n",
    "    refined_list = []\n",
    "# part 1 select eligible strands\n",
    "    for strand in strands:\n",
    "        if (len(strand) > 10) and (len(strand) < 100) and (strand != ''):\n",
    "            memo = ''\n",
    "            for char in strand:\n",
    "                if (char in ['A', 'T', 'C', 'G']) and (char.isupper()):\n",
    "                    memo += char\n",
    "            if memo == strand:\n",
    "                refined_list.append(strand)\n",
    "\n",
    "    if len(refined_list) < 3:\n",
    "        refined_list = ''\n",
    "        return refined_list\n",
    "\n",
    "    # combine strands into string\n",
    "\n",
    "    def helper(merged_list, test_list):\n",
    "        if test_list == []:\n",
    "            return combined_strands.append(merged_list)\n",
    "        for strand in test_list:\n",
    "            # last three equal first three\n",
    "            if merged_list[-3:] == strand[:3]:\n",
    "                merged_list += strand[3:]\n",
    "                test_list.remove(strand)\n",
    "                helper(merged_list, test_list)\n",
    "\n",
    "    combined_strands = []\n",
    "\n",
    "    for item in refined_list:\n",
    "        # copy refined_list\n",
    "        test_list = list(refined_list)\n",
    "        merged_list = item\n",
    "        test_list.remove(item)\n",
    "        helper(merged_list, test_list)\n",
    "\n",
    "    # part 3 return report\n",
    "\n",
    "    long_strand = combined_strands[0]\n",
    "\n",
    "    codons = []\n",
    "    for i in range(0, len(long_strand), 3):\n",
    "        codons.append(long_strand[i:i+3])\n",
    "        # codons.append(long_strand[i:i+3])\n",
    "\n",
    "    # Build dictionary report\n",
    "    report_dict = {}\n",
    "    for value in codon_mapping.values():\n",
    "        report_dict[value] = 0\n",
    "\n",
    "    for item in codons:\n",
    "        if item in codon_mapping.keys():\n",
    "            report_dict[codon_mapping[item]] += 1\n",
    "\n",
    "    # sort dict\n",
    "    for key in sorted(report_dict):\n",
    "        if report_dict[key] != 0:\n",
    "            print('{}: {}'.format(key, report_dict[key]))"
   ]
  },
  {
   "cell_type": "markdown",
   "metadata": {},
   "source": [
    "# Test Case"
   ]
  },
  {
   "cell_type": "code",
   "execution_count": 5,
   "metadata": {},
   "outputs": [
    {
     "name": "stdout",
     "output_type": "stream",
     "text": [
      "Alanine: 2\n",
      "Asparagine: 1\n",
      "Glutamicacid: 1\n",
      "Isoleucine: 2\n",
      "Leucine: 1\n",
      "Lysine: 1\n",
      "Proline: 1\n",
      "Tryptophan: 2\n"
     ]
    }
   ],
   "source": [
    "strands = ['AATTGGCCAATTG',\n",
    "           'TTGAATTGGCCAAAA',\n",
    "           'AAATTTGGGCCC',\n",
    "           'AAAEEERRRTTT',\n",
    "           'NEWUSER123']\n",
    "\n",
    "analyze_dna(strands, codon_mapping)"
   ]
  },
  {
   "cell_type": "markdown",
   "metadata": {},
   "source": [
    "# Test Case "
   ]
  },
  {
   "cell_type": "code",
   "execution_count": 6,
   "metadata": {},
   "outputs": [
    {
     "data": {
      "text/plain": [
       "''"
      ]
     },
     "execution_count": 6,
     "metadata": {},
     "output_type": "execute_result"
    }
   ],
   "source": [
    "strands = ['XYZ']\n",
    "analyze_dna(strands, codon_mapping)"
   ]
  },
  {
   "cell_type": "markdown",
   "metadata": {},
   "source": [
    "# Test Case "
   ]
  },
  {
   "cell_type": "code",
   "execution_count": 7,
   "metadata": {},
   "outputs": [
    {
     "name": "stdout",
     "output_type": "stream",
     "text": [
      "Alanine: 2\n",
      "Asparagine: 1\n",
      "Glutamicacid: 1\n",
      "Glycine: 3\n",
      "Phenylalanine: 1\n",
      "Tryptophan: 2\n"
     ]
    }
   ],
   "source": [
    "strands = ['AGTCCCAATTT',\n",
    "           'TTTACACAGCT',\n",
    "           'GCTGGGCCCAGT',\n",
    "           'AGTGGGGGGGGG',\n",
    "           'GGGAATATCTATCATTACATTTTAC',\n",
    "           'TACTATCACTACTTACT',\n",
    "           'ACTATCTATTACTGGGTGAT',\n",
    "           'GATTACTATGTGACGTACGGTACG',\n",
    "           'ACGGGGCAGCAGGGTGCCGT']\n",
    "analyze_dna(strands, codon_mapping)"
   ]
  },
  {
   "cell_type": "code",
   "execution_count": null,
   "metadata": {},
   "outputs": [],
   "source": []
  }
 ],
 "metadata": {
  "kernelspec": {
   "display_name": "Python 3",
   "language": "python",
   "name": "python3"
  },
  "language_info": {
   "codemirror_mode": {
    "name": "ipython",
    "version": 3
   },
   "file_extension": ".py",
   "mimetype": "text/x-python",
   "name": "python",
   "nbconvert_exporter": "python",
   "pygments_lexer": "ipython3",
   "version": "3.7.1"
  },
  "latex_envs": {
   "LaTeX_envs_menu_present": true,
   "autoclose": false,
   "autocomplete": true,
   "bibliofile": "biblio.bib",
   "cite_by": "apalike",
   "current_citInitial": 1,
   "eqLabelWithNumbers": true,
   "eqNumInitial": 1,
   "hotkeys": {
    "equation": "Ctrl-E",
    "itemize": "Ctrl-I"
   },
   "labels_anchors": false,
   "latex_user_defs": false,
   "report_style_numbering": false,
   "user_envs_cfg": false
  },
  "toc": {
   "base_numbering": 1,
   "nav_menu": {},
   "number_sections": true,
   "sideBar": true,
   "skip_h1_title": false,
   "title_cell": "Table of Contents",
   "title_sidebar": "Contents",
   "toc_cell": false,
   "toc_position": {},
   "toc_section_display": true,
   "toc_window_display": false
  },
  "varInspector": {
   "cols": {
    "lenName": 16,
    "lenType": 16,
    "lenVar": 40
   },
   "kernels_config": {
    "python": {
     "delete_cmd_postfix": "",
     "delete_cmd_prefix": "del ",
     "library": "var_list.py",
     "varRefreshCmd": "print(var_dic_list())"
    },
    "r": {
     "delete_cmd_postfix": ") ",
     "delete_cmd_prefix": "rm(",
     "library": "var_list.r",
     "varRefreshCmd": "cat(var_dic_list()) "
    }
   },
   "types_to_exclude": [
    "module",
    "function",
    "builtin_function_or_method",
    "instance",
    "_Feature"
   ],
   "window_display": false
  }
 },
 "nbformat": 4,
 "nbformat_minor": 2
}
